{
 "cells": [
  {
   "cell_type": "markdown",
   "metadata": {
    "execution": {
     "iopub.execute_input": "2021-08-19T11:02:11.779862Z",
     "iopub.status.busy": "2021-08-19T11:02:11.779502Z",
     "iopub.status.idle": "2021-08-19T11:02:11.784325Z",
     "shell.execute_reply": "2021-08-19T11:02:11.783228Z",
     "shell.execute_reply.started": "2021-08-19T11:02:11.77978Z"
    }
   },
   "source": [
    "### Pet Classification Model Using CNN\n",
    "\n",
    "##### Project Objective:\n",
    "\n",
    "Build a CNN model that classifies the given pet images correctly into dog and cat images. \n",
    "The project scope document specifies the requirements for the project “Pet Classification Model Using CNN.” Apart from specifying the functional and non-functional requirements for the project, it also serves as an input for project scoping. \n",
    "\n",
    "##### Project Description and Scope: \n",
    "\n",
    "You are provided with a collection of images of pets, that is, cats and dogs. These images are of different sizes with varied lighting conditions and they should be used as inputs for your model.\n",
    "You are expected to write the code for CNN image classification model using TensorFlow that trains on the data and calculates the accuracy score on the test data. \n",
    "\n",
    "##### Project Guidelines:\n",
    "\n",
    "Begin by creating the ipynb file in the same parent folder where the downloaded data set is kept. The CNN model should have the following layers: \n",
    "● Input layer \n",
    "● Convolutional layer 1 with 32 filters of kernel size[5,5] \n",
    "● Pooling layer 1 with pool size[2,2] and stride 2 \n",
    "● Convolutional layer 2 with 64 filters of kernel size[5,5] \n",
    "● Pooling layer 2 with pool size[2,2] and stride 2 \n",
    "● Dense layer whose output size is fixed in the hyper parameter: fc_size=32 \n",
    "● Dropout layer with dropout probability 0.4 \n",
    "Predict the class by doing a softmax on the output of the dropout layers. \n",
    "This should be followed by training and evaluation: \n",
    "● For the training step, define the loss function and minimize it \n",
    "● For the evaluation step, calculate the accuracy \n",
    "Run the program for 100, 200, and 300 iterations, respectively. Follow this by a report on the final accuracy and loss on the evaluation data. \n",
    "\n",
    "##### Prerequisites:\n",
    "\n",
    "To execute this project, please ensure you have the latest version of TensorFlow installed on your system.\n"
   ]
  },
  {
   "cell_type": "code",
   "execution_count": 39,
   "metadata": {},
   "outputs": [],
   "source": [
    "#import require labraries "
   ]
  },
  {
   "cell_type": "code",
   "execution_count": 2,
   "metadata": {
    "tags": []
   },
   "outputs": [
    {
     "name": "stderr",
     "output_type": "stream",
     "text": [
      "2024-01-14 14:31:27.507216: I tensorflow/core/util/port.cc:110] oneDNN custom operations are on. You may see slightly different numerical results due to floating-point round-off errors from different computation orders. To turn them off, set the environment variable `TF_ENABLE_ONEDNN_OPTS=0`.\n",
      "2024-01-14 14:31:27.546731: I tensorflow/core/platform/cpu_feature_guard.cc:182] This TensorFlow binary is optimized to use available CPU instructions in performance-critical operations.\n",
      "To enable the following instructions: AVX2 AVX512F AVX512_VNNI FMA, in other operations, rebuild TensorFlow with the appropriate compiler flags.\n",
      "2024-01-14 14:31:29.661062: E tensorflow/compiler/xla/stream_executor/cuda/cuda_driver.cc:268] failed call to cuInit: CUDA_ERROR_NO_DEVICE: no CUDA-capable device is detected\n"
     ]
    },
    {
     "name": "stdout",
     "output_type": "stream",
     "text": [
      "VOC-NOTICE: GPU memory for this assignment is capped at 1024MiB\n"
     ]
    }
   ],
   "source": [
    "import tensorflow as tf\n",
    "from tensorflow import keras\n",
    "from keras.preprocessing.image import ImageDataGenerator\n",
    "from tensorflow.keras import models, layers"
   ]
  },
  {
   "cell_type": "code",
   "execution_count": 3,
   "metadata": {},
   "outputs": [],
   "source": [
    "tf.random.set_seed(12345)"
   ]
  },
  {
   "cell_type": "code",
   "execution_count": 4,
   "metadata": {
    "tags": []
   },
   "outputs": [],
   "source": [
    "#dataGen = ImageDataGenerator(rescale = 1./255,\n",
    "#                                   shear_range = 0.2,\n",
    "#                                   zoom_range = 0.2,\n",
    "#                                   #validation_split = 0.2,\n",
    "#                                   horizontal_flip = True)\n",
    "\n",
    "dataGen = ImageDataGenerator(\n",
    "            rotation_range=10,\n",
    "            width_shift_range=0.2,\n",
    "            height_shift_range=0.2,\n",
    "            shear_range=0.2,\n",
    "            zoom_range=0.2,\n",
    "            rescale=1./255,\n",
    "            horizontal_flip=True,\n",
    "            vertical_flip=True,\n",
    "            validation_split=0.25,\n",
    "            fill_mode='nearest')\n",
    "\n",
    "dataGen = ImageDataGenerator(rescale=1./255)"
   ]
  },
  {
   "cell_type": "code",
   "execution_count": 5,
   "metadata": {},
   "outputs": [],
   "source": [
    "#import training data from file "
   ]
  },
  {
   "cell_type": "code",
   "execution_count": 6,
   "metadata": {
    "tags": []
   },
   "outputs": [
    {
     "name": "stdout",
     "output_type": "stream",
     "text": [
      "Found 40 images belonging to 3 classes.\n"
     ]
    }
   ],
   "source": [
    "training_set = dataGen.flow_from_directory('../DL/dataset/train', target_size = (150, 150),\n",
    "                                                 batch_size = 8,\n",
    "                                                 #subset='training',\n",
    "                                                 class_mode = 'binary')"
   ]
  },
  {
   "cell_type": "code",
   "execution_count": 7,
   "metadata": {},
   "outputs": [],
   "source": [
    "#import test data from file "
   ]
  },
  {
   "cell_type": "code",
   "execution_count": 8,
   "metadata": {
    "tags": []
   },
   "outputs": [
    {
     "name": "stdout",
     "output_type": "stream",
     "text": [
      "Found 20 images belonging to 3 classes.\n"
     ]
    }
   ],
   "source": [
    "validation_set = dataGen.flow_from_directory('../DL/dataset/test', target_size = (150, 150),\n",
    "                                                 batch_size = 8,\n",
    "                                                 #subset='validation',\n",
    "                                                 class_mode = 'binary')"
   ]
  },
  {
   "cell_type": "code",
   "execution_count": 9,
   "metadata": {},
   "outputs": [
    {
     "data": {
      "text/plain": [
       "({'.ipynb_checkpoints': 0, 'cats': 1, 'dogs': 2},\n",
       " {'.ipynb_checkpoints': 0, 'cats': 1, 'dogs': 2})"
      ]
     },
     "execution_count": 9,
     "metadata": {},
     "output_type": "execute_result"
    }
   ],
   "source": [
    "training_set.class_indices, validation_set.class_indices"
   ]
  },
  {
   "cell_type": "code",
   "execution_count": 10,
   "metadata": {},
   "outputs": [],
   "source": [
    "#build model according to \n",
    "#Input layer ● Convolutional layer 1 with 32 filters of kernel size[5,5] \n",
    "#Pooling layer 1 with pool size[2,2] and stride\n",
    "#Convolutional layer 2 with 64 filters of kernel size[5,5]\n",
    "#Pooling layer 2 with pool size[2,2] and stride 2\n",
    "#Dense layer whose output size is fixed in the hyper parameter: fc_size=32 \n",
    "#Dropout layer with dropout probability 0.4 Predict the class by doing a softmax on the output of the dropout layers. This should be followed by training and evaluation: \n",
    "#"
   ]
  },
  {
   "cell_type": "code",
   "execution_count": 11,
   "metadata": {},
   "outputs": [],
   "source": [
    "from tensorflow.keras.models import Sequential\n",
    "from tensorflow.keras.layers import Conv2D, MaxPool2D,Flatten, Dense"
   ]
  },
  {
   "cell_type": "code",
   "execution_count": 12,
   "metadata": {},
   "outputs": [],
   "source": [
    "model = models.Sequential()"
   ]
  },
  {
   "cell_type": "code",
   "execution_count": 13,
   "metadata": {},
   "outputs": [],
   "source": [
    "# Add the first Convolution layer and max pool layer\n",
    "model.add(Conv2D(name='cnv_layer',\n",
    "                 filters=32,\n",
    "                 kernel_size=3,\n",
    "                 activation='relu',\n",
    "                 padding='same',\n",
    "                 input_shape=[150, 150, 3]))"
   ]
  },
  {
   "cell_type": "code",
   "execution_count": 14,
   "metadata": {},
   "outputs": [],
   "source": [
    "model.add(MaxPool2D(pool_size = 2)) # Maxpool Layer"
   ]
  },
  {
   "cell_type": "code",
   "execution_count": 15,
   "metadata": {},
   "outputs": [],
   "source": [
    "model.add(Flatten(name='flatten')) # Add the flatten layer"
   ]
  },
  {
   "cell_type": "code",
   "execution_count": 16,
   "metadata": {},
   "outputs": [],
   "source": [
    "model.add(Dense(units = 64,\n",
    "                name='dense1',\n",
    "                activation = 'relu')) #Add the dense layer"
   ]
  },
  {
   "cell_type": "code",
   "execution_count": 17,
   "metadata": {},
   "outputs": [],
   "source": [
    "model.add(Dense(units = 32,\n",
    "                name='dense2',\n",
    "                activation = 'relu')) #Add the dense layer"
   ]
  },
  {
   "cell_type": "code",
   "execution_count": 18,
   "metadata": {},
   "outputs": [],
   "source": [
    "model.add(Dense(name='output',\n",
    "                units=1,\n",
    "                activation = 'sigmoid')) # Final Output layer"
   ]
  },
  {
   "cell_type": "code",
   "execution_count": 19,
   "metadata": {},
   "outputs": [
    {
     "name": "stdout",
     "output_type": "stream",
     "text": [
      "Model: \"sequential\"\n",
      "_________________________________________________________________\n",
      " Layer (type)                Output Shape              Param #   \n",
      "=================================================================\n",
      " cnv_layer (Conv2D)          (None, 150, 150, 32)      896       \n",
      "                                                                 \n",
      " max_pooling2d (MaxPooling2  (None, 75, 75, 32)        0         \n",
      " D)                                                              \n",
      "                                                                 \n",
      " flatten (Flatten)           (None, 180000)            0         \n",
      "                                                                 \n",
      " dense1 (Dense)              (None, 64)                11520064  \n",
      "                                                                 \n",
      " dense2 (Dense)              (None, 32)                2080      \n",
      "                                                                 \n",
      " output (Dense)              (None, 1)                 33        \n",
      "                                                                 \n",
      "=================================================================\n",
      "Total params: 11523073 (43.96 MB)\n",
      "Trainable params: 11523073 (43.96 MB)\n",
      "Non-trainable params: 0 (0.00 Byte)\n",
      "_________________________________________________________________\n"
     ]
    }
   ],
   "source": [
    "model.summary()"
   ]
  },
  {
   "cell_type": "code",
   "execution_count": 20,
   "metadata": {},
   "outputs": [],
   "source": [
    "\n",
    "# Compile the model\n",
    "mh = model.compile(optimizer='adam',\n",
    "             loss = 'binary_crossentropy',\n",
    "             metrics = ['accuracy'])"
   ]
  },
  {
   "cell_type": "code",
   "execution_count": 21,
   "metadata": {},
   "outputs": [
    {
     "name": "stdout",
     "output_type": "stream",
     "text": [
      "Epoch 1/30\n",
      "5/5 [==============================] - 1s 181ms/step - loss: -31.7444 - accuracy: 0.4250 - val_loss: -99.0691 - val_accuracy: 0.5000\n",
      "Epoch 2/30\n",
      "5/5 [==============================] - 1s 156ms/step - loss: -177.7237 - accuracy: 0.5000 - val_loss: -304.8374 - val_accuracy: 0.5000\n",
      "Epoch 3/30\n",
      "5/5 [==============================] - 1s 142ms/step - loss: -473.0379 - accuracy: 0.5000 - val_loss: -684.2023 - val_accuracy: 0.5000\n",
      "Epoch 4/30\n",
      "5/5 [==============================] - 1s 144ms/step - loss: -996.4509 - accuracy: 0.5000 - val_loss: -1357.6658 - val_accuracy: 0.5000\n",
      "Epoch 5/30\n",
      "5/5 [==============================] - 1s 143ms/step - loss: -1834.8265 - accuracy: 0.5000 - val_loss: -2547.9604 - val_accuracy: 0.5000\n",
      "Epoch 6/30\n",
      "5/5 [==============================] - 1s 144ms/step - loss: -3398.0649 - accuracy: 0.5000 - val_loss: -4403.9443 - val_accuracy: 0.5000\n",
      "Epoch 7/30\n",
      "5/5 [==============================] - 1s 146ms/step - loss: -5518.8560 - accuracy: 0.5000 - val_loss: -7247.6123 - val_accuracy: 0.5000\n",
      "Epoch 8/30\n",
      "5/5 [==============================] - 1s 143ms/step - loss: -9147.8691 - accuracy: 0.5000 - val_loss: -11438.5332 - val_accuracy: 0.5000\n",
      "Epoch 9/30\n",
      "5/5 [==============================] - 1s 142ms/step - loss: -14334.3096 - accuracy: 0.5000 - val_loss: -17404.5273 - val_accuracy: 0.5000\n",
      "Epoch 10/30\n",
      "5/5 [==============================] - 1s 143ms/step - loss: -21057.2910 - accuracy: 0.5000 - val_loss: -25607.3809 - val_accuracy: 0.5000\n",
      "Epoch 11/30\n",
      "5/5 [==============================] - 1s 144ms/step - loss: -30352.7695 - accuracy: 0.5000 - val_loss: -36779.0391 - val_accuracy: 0.5000\n",
      "Epoch 12/30\n",
      "5/5 [==============================] - 1s 144ms/step - loss: -44646.3984 - accuracy: 0.5000 - val_loss: -51322.7070 - val_accuracy: 0.5000\n",
      "Epoch 13/30\n",
      "5/5 [==============================] - 1s 144ms/step - loss: -59566.1367 - accuracy: 0.5000 - val_loss: -70635.4531 - val_accuracy: 0.5000\n",
      "Epoch 14/30\n",
      "5/5 [==============================] - 1s 138ms/step - loss: -81460.0391 - accuracy: 0.5000 - val_loss: -95102.8281 - val_accuracy: 0.5000\n",
      "Epoch 15/30\n",
      "5/5 [==============================] - 1s 141ms/step - loss: -107344.2109 - accuracy: 0.5000 - val_loss: -125344.9375 - val_accuracy: 0.5000\n",
      "Epoch 16/30\n",
      "5/5 [==============================] - 1s 144ms/step - loss: -144511.6875 - accuracy: 0.5000 - val_loss: -162380.3281 - val_accuracy: 0.5000\n",
      "Epoch 17/30\n",
      "5/5 [==============================] - 1s 143ms/step - loss: -189255.3906 - accuracy: 0.5000 - val_loss: -207910.3594 - val_accuracy: 0.5000\n",
      "Epoch 18/30\n",
      "5/5 [==============================] - 1s 144ms/step - loss: -239251.7031 - accuracy: 0.5000 - val_loss: -264412.6250 - val_accuracy: 0.5000\n",
      "Epoch 19/30\n",
      "5/5 [==============================] - 1s 144ms/step - loss: -301453.1562 - accuracy: 0.5000 - val_loss: -333574.4062 - val_accuracy: 0.5000\n",
      "Epoch 20/30\n",
      "5/5 [==============================] - 1s 149ms/step - loss: -374971.2500 - accuracy: 0.5000 - val_loss: -416163.9375 - val_accuracy: 0.5000\n",
      "Epoch 21/30\n",
      "5/5 [==============================] - 1s 149ms/step - loss: -464318.6875 - accuracy: 0.5000 - val_loss: -512526.3438 - val_accuracy: 0.5000\n",
      "Epoch 22/30\n",
      "5/5 [==============================] - 1s 147ms/step - loss: -571305.0000 - accuracy: 0.5000 - val_loss: -624364.6875 - val_accuracy: 0.5000\n",
      "Epoch 23/30\n",
      "5/5 [==============================] - 1s 144ms/step - loss: -689091.5625 - accuracy: 0.5000 - val_loss: -754792.6875 - val_accuracy: 0.5000\n",
      "Epoch 24/30\n",
      "5/5 [==============================] - 1s 144ms/step - loss: -847547.0000 - accuracy: 0.5000 - val_loss: -901180.6875 - val_accuracy: 0.5000\n",
      "Epoch 25/30\n",
      "5/5 [==============================] - 1s 145ms/step - loss: -1010658.3750 - accuracy: 0.5000 - val_loss: -1072446.6250 - val_accuracy: 0.5000\n",
      "Epoch 26/30\n",
      "5/5 [==============================] - 1s 149ms/step - loss: -1192138.7500 - accuracy: 0.5000 - val_loss: -1270035.2500 - val_accuracy: 0.5000\n",
      "Epoch 27/30\n",
      "5/5 [==============================] - 1s 147ms/step - loss: -1377262.7500 - accuracy: 0.5000 - val_loss: -1496156.6250 - val_accuracy: 0.5000\n",
      "Epoch 28/30\n",
      "5/5 [==============================] - 1s 143ms/step - loss: -1632755.1250 - accuracy: 0.5000 - val_loss: -1742496.6250 - val_accuracy: 0.5000\n",
      "Epoch 29/30\n",
      "5/5 [==============================] - 1s 143ms/step - loss: -1903805.6250 - accuracy: 0.5000 - val_loss: -2020253.2500 - val_accuracy: 0.5000\n",
      "Epoch 30/30\n",
      "5/5 [==============================] - 1s 143ms/step - loss: -2209407.7500 - accuracy: 0.5000 - val_loss: -2331053.0000 - val_accuracy: 0.5000\n"
     ]
    }
   ],
   "source": [
    "\n",
    "mh = model.fit(training_set,\n",
    "          validation_data = validation_set,\n",
    "          epochs=30) # Train the model for 3 epochs"
   ]
  },
  {
   "cell_type": "code",
   "execution_count": null,
   "metadata": {},
   "outputs": [],
   "source": []
  },
  {
   "cell_type": "code",
   "execution_count": 22,
   "metadata": {},
   "outputs": [],
   "source": [
    "#For the training step, define the loss function and minimize it"
   ]
  },
  {
   "cell_type": "code",
   "execution_count": 23,
   "metadata": {},
   "outputs": [],
   "source": [
    "\n",
    "#sgd_opt = tf.keras.optimizers.SGD(lr = 0.001)"
   ]
  },
  {
   "cell_type": "code",
   "execution_count": 24,
   "metadata": {},
   "outputs": [],
   "source": [
    "#compiling model "
   ]
  },
  {
   "cell_type": "code",
   "execution_count": 25,
   "metadata": {},
   "outputs": [],
   "source": [
    "#history=model.compile( optimizer = 'adam', loss = 'binary_crossentropy', metrics =  ['accuracy'])"
   ]
  },
  {
   "cell_type": "code",
   "execution_count": 26,
   "metadata": {},
   "outputs": [],
   "source": [
    "#model train for 100 epochs \n",
    "#model.summary()"
   ]
  },
  {
   "cell_type": "code",
   "execution_count": 27,
   "metadata": {},
   "outputs": [],
   "source": [
    "#history = model.fit(train, validation_data = test, epochs =3)"
   ]
  },
  {
   "cell_type": "code",
   "execution_count": 28,
   "metadata": {},
   "outputs": [
    {
     "name": "stdout",
     "output_type": "stream",
     "text": [
      "3/3 [==============================] - 0s 16ms/step - loss: -2331053.0000 - accuracy: 0.5000\n"
     ]
    }
   ],
   "source": [
    "test_loss, test_accuracy = model.evaluate(validation_set)"
   ]
  },
  {
   "cell_type": "code",
   "execution_count": 29,
   "metadata": {},
   "outputs": [
    {
     "data": {
      "text/plain": [
       "-2331053.0"
      ]
     },
     "execution_count": 29,
     "metadata": {},
     "output_type": "execute_result"
    }
   ],
   "source": [
    "test_loss"
   ]
  },
  {
   "cell_type": "code",
   "execution_count": 30,
   "metadata": {},
   "outputs": [
    {
     "data": {
      "image/png": "[encoded data removed]",
      "text/plain": [
       "<Figure size 432x288 with 1 Axes>"
      ]
     },
     "metadata": {
      "needs_background": "light"
     },
     "output_type": "display_data"
    }
   ],
   "source": [
    "from matplotlib import pyplot as plt \n",
    "\n",
    "plt.plot(mh.history['accuracy'])\n",
    "plt.plot(mh.history['val_accuracy'])\n",
    "plt.title('Accuracy')\n",
    "plt.ylabel('accuracy')\n",
    "plt.xlabel('epochs')\n",
    "plt.legend(['train', 'test'], loc = 'upper right')\n",
    "plt.show()"
   ]
  },
  {
   "cell_type": "code",
   "execution_count": 31,
   "metadata": {},
   "outputs": [
    {
     "name": "stdout",
     "output_type": "stream",
     "text": [
      "Epoch 1/20\n",
      "5/5 [==============================] - 1s 153ms/step - loss: -2536380.5000 - accuracy: 0.5000 - val_loss: -2681949.5000 - val_accuracy: 0.5000\n",
      "Epoch 2/20\n",
      "5/5 [==============================] - 1s 153ms/step - loss: -2909174.0000 - accuracy: 0.5000 - val_loss: -3073283.5000 - val_accuracy: 0.5000\n",
      "Epoch 3/20\n",
      "5/5 [==============================] - 1s 153ms/step - loss: -3310094.0000 - accuracy: 0.5000 - val_loss: -3514374.7500 - val_accuracy: 0.5000\n",
      "Epoch 4/20\n",
      "5/5 [==============================] - 1s 149ms/step - loss: -3848275.2500 - accuracy: 0.5000 - val_loss: -3973007.2500 - val_accuracy: 0.5000\n",
      "Epoch 5/20\n",
      "5/5 [==============================] - 1s 147ms/step - loss: -4310928.0000 - accuracy: 0.5000 - val_loss: -4507865.0000 - val_accuracy: 0.5000\n",
      "Epoch 6/20\n",
      "5/5 [==============================] - 1s 150ms/step - loss: -4888394.0000 - accuracy: 0.5000 - val_loss: -5100301.0000 - val_accuracy: 0.5000\n",
      "Epoch 7/20\n",
      "5/5 [==============================] - 1s 150ms/step - loss: -5554229.0000 - accuracy: 0.5000 - val_loss: -5743297.0000 - val_accuracy: 0.5000\n",
      "Epoch 8/20\n",
      "5/5 [==============================] - 1s 149ms/step - loss: -6224675.0000 - accuracy: 0.5000 - val_loss: -6466735.0000 - val_accuracy: 0.5000\n",
      "Epoch 9/20\n",
      "5/5 [==============================] - 1s 148ms/step - loss: -6966775.0000 - accuracy: 0.5000 - val_loss: -7266698.5000 - val_accuracy: 0.5000\n",
      "Epoch 10/20\n",
      "5/5 [==============================] - 1s 149ms/step - loss: -7840792.0000 - accuracy: 0.5000 - val_loss: -8122521.5000 - val_accuracy: 0.5000\n",
      "Epoch 11/20\n",
      "5/5 [==============================] - 1s 150ms/step - loss: -8752134.0000 - accuracy: 0.5000 - val_loss: -9059077.0000 - val_accuracy: 0.5000\n",
      "Epoch 12/20\n",
      "5/5 [==============================] - 1s 150ms/step - loss: -9778505.0000 - accuracy: 0.5000 - val_loss: -10073717.0000 - val_accuracy: 0.5000\n",
      "Epoch 13/20\n",
      "5/5 [==============================] - 1s 150ms/step - loss: -10895036.0000 - accuracy: 0.5000 - val_loss: -11169507.0000 - val_accuracy: 0.5000\n",
      "Epoch 14/20\n",
      "5/5 [==============================] - 1s 149ms/step - loss: -12105358.0000 - accuracy: 0.5000 - val_loss: -12352714.0000 - val_accuracy: 0.5000\n",
      "Epoch 15/20\n",
      "5/5 [==============================] - 1s 150ms/step - loss: -13327250.0000 - accuracy: 0.5000 - val_loss: -13658640.0000 - val_accuracy: 0.5000\n",
      "Epoch 16/20\n",
      "5/5 [==============================] - 1s 149ms/step - loss: -14664893.0000 - accuracy: 0.5000 - val_loss: -15083398.0000 - val_accuracy: 0.5000\n",
      "Epoch 17/20\n",
      "5/5 [==============================] - 1s 150ms/step - loss: -16100179.0000 - accuracy: 0.5000 - val_loss: -16635122.0000 - val_accuracy: 0.5000\n",
      "Epoch 18/20\n",
      "5/5 [==============================] - 1s 148ms/step - loss: -17803180.0000 - accuracy: 0.5000 - val_loss: -18256422.0000 - val_accuracy: 0.5000\n",
      "Epoch 19/20\n",
      "5/5 [==============================] - 1s 145ms/step - loss: -19368840.0000 - accuracy: 0.5000 - val_loss: -20019172.0000 - val_accuracy: 0.5000\n",
      "Epoch 20/20\n",
      "5/5 [==============================] - 1s 144ms/step - loss: -21395692.0000 - accuracy: 0.5000 - val_loss: -21823676.0000 - val_accuracy: 0.5000\n"
     ]
    }
   ],
   "source": [
    "mh =model.fit(training_set, validation_data = validation_set, epochs =20)"
   ]
  },
  {
   "cell_type": "code",
   "execution_count": 32,
   "metadata": {},
   "outputs": [
    {
     "name": "stdout",
     "output_type": "stream",
     "text": [
      "3/3 [==============================] - 0s 17ms/step - loss: -21823676.0000 - accuracy: 0.5000\n"
     ]
    }
   ],
   "source": [
    "test_loss, test_accuracy = model.evaluate(validation_set)"
   ]
  },
  {
   "cell_type": "code",
   "execution_count": 33,
   "metadata": {},
   "outputs": [
    {
     "data": {
      "text/plain": [
       "-21823676.0"
      ]
     },
     "execution_count": 33,
     "metadata": {},
     "output_type": "execute_result"
    }
   ],
   "source": [
    "test_loss"
   ]
  },
  {
   "cell_type": "code",
   "execution_count": 34,
   "metadata": {},
   "outputs": [
    {
     "data": {
      "image/png": "[encoded data removed]",
      "text/plain": [
       "<Figure size 432x288 with 1 Axes>"
      ]
     },
     "metadata": {
      "needs_background": "light"
     },
     "output_type": "display_data"
    }
   ],
   "source": [
    "from matplotlib import pyplot as plt \n",
    "\n",
    "plt.plot(mh.history['accuracy'])\n",
    "plt.plot(mh.history['val_accuracy'])\n",
    "plt.title('Accuracy')\n",
    "plt.ylabel('accuracy')\n",
    "plt.xlabel('epochs')\n",
    "plt.legend(['train', 'test'], loc = 'upper right')\n",
    "plt.show()"
   ]
  },
  {
   "cell_type": "code",
   "execution_count": 35,
   "metadata": {},
   "outputs": [
    {
     "name": "stdout",
     "output_type": "stream",
     "text": [
      "Epoch 1/30\n",
      "5/5 [==============================] - 1s 154ms/step - loss: -23335402.0000 - accuracy: 0.5000 - val_loss: -23770828.0000 - val_accuracy: 0.5000\n",
      "Epoch 2/30\n",
      "5/5 [==============================] - 1s 151ms/step - loss: -25508034.0000 - accuracy: 0.5000 - val_loss: -25829094.0000 - val_accuracy: 0.5000\n",
      "Epoch 3/30\n",
      "5/5 [==============================] - 1s 152ms/step - loss: -27591248.0000 - accuracy: 0.5000 - val_loss: -28077420.0000 - val_accuracy: 0.5000\n",
      "Epoch 4/30\n",
      "5/5 [==============================] - 1s 152ms/step - loss: -29857108.0000 - accuracy: 0.5000 - val_loss: -30497148.0000 - val_accuracy: 0.5000\n",
      "Epoch 5/30\n",
      "5/5 [==============================] - 1s 149ms/step - loss: -32389610.0000 - accuracy: 0.5000 - val_loss: -33018038.0000 - val_accuracy: 0.5000\n",
      "Epoch 6/30\n",
      "5/5 [==============================] - 1s 149ms/step - loss: -35092232.0000 - accuracy: 0.5000 - val_loss: -35676992.0000 - val_accuracy: 0.5000\n",
      "Epoch 7/30\n",
      "5/5 [==============================] - 1s 147ms/step - loss: -37866764.0000 - accuracy: 0.5000 - val_loss: -38517520.0000 - val_accuracy: 0.5000\n",
      "Epoch 8/30\n",
      "5/5 [==============================] - 1s 148ms/step - loss: -41131744.0000 - accuracy: 0.5000 - val_loss: -41409784.0000 - val_accuracy: 0.5000\n",
      "Epoch 9/30\n",
      "5/5 [==============================] - 1s 142ms/step - loss: -44049816.0000 - accuracy: 0.5000 - val_loss: -44570712.0000 - val_accuracy: 0.5000\n",
      "Epoch 10/30\n",
      "5/5 [==============================] - 1s 144ms/step - loss: -47256340.0000 - accuracy: 0.5000 - val_loss: -47965880.0000 - val_accuracy: 0.5000\n",
      "Epoch 11/30\n",
      "5/5 [==============================] - 1s 143ms/step - loss: -50878608.0000 - accuracy: 0.5000 - val_loss: -51522148.0000 - val_accuracy: 0.5000\n",
      "Epoch 12/30\n",
      "5/5 [==============================] - 1s 145ms/step - loss: -54801688.0000 - accuracy: 0.5000 - val_loss: -55204440.0000 - val_accuracy: 0.5000\n",
      "Epoch 13/30\n",
      "5/5 [==============================] - 1s 143ms/step - loss: -58534368.0000 - accuracy: 0.5000 - val_loss: -59203624.0000 - val_accuracy: 0.5000\n",
      "Epoch 14/30\n",
      "5/5 [==============================] - 1s 143ms/step - loss: -62557560.0000 - accuracy: 0.5000 - val_loss: -63473676.0000 - val_accuracy: 0.5000\n",
      "Epoch 15/30\n",
      "5/5 [==============================] - 1s 150ms/step - loss: -67253824.0000 - accuracy: 0.5000 - val_loss: -67830360.0000 - val_accuracy: 0.5000\n",
      "Epoch 16/30\n",
      "5/5 [==============================] - 1s 143ms/step - loss: -71797728.0000 - accuracy: 0.5000 - val_loss: -72448400.0000 - val_accuracy: 0.5000\n",
      "Epoch 17/30\n",
      "5/5 [==============================] - 1s 145ms/step - loss: -76638016.0000 - accuracy: 0.5000 - val_loss: -77309704.0000 - val_accuracy: 0.5000\n",
      "Epoch 18/30\n",
      "5/5 [==============================] - 1s 145ms/step - loss: -81750568.0000 - accuracy: 0.5000 - val_loss: -82430104.0000 - val_accuracy: 0.5000\n",
      "Epoch 19/30\n",
      "5/5 [==============================] - 1s 143ms/step - loss: -87115088.0000 - accuracy: 0.5000 - val_loss: -87820936.0000 - val_accuracy: 0.5000\n",
      "Epoch 20/30\n",
      "5/5 [==============================] - 1s 144ms/step - loss: -92793264.0000 - accuracy: 0.5000 - val_loss: -93483376.0000 - val_accuracy: 0.5000\n",
      "Epoch 21/30\n",
      "5/5 [==============================] - 1s 143ms/step - loss: -98909328.0000 - accuracy: 0.5000 - val_loss: -99356248.0000 - val_accuracy: 0.5000\n",
      "Epoch 22/30\n",
      "5/5 [==============================] - 1s 143ms/step - loss: -104994944.0000 - accuracy: 0.5000 - val_loss: -105596224.0000 - val_accuracy: 0.5000\n",
      "Epoch 23/30\n",
      "5/5 [==============================] - 1s 144ms/step - loss: -111876608.0000 - accuracy: 0.5000 - val_loss: -111980176.0000 - val_accuracy: 0.5000\n",
      "Epoch 24/30\n",
      "5/5 [==============================] - 1s 143ms/step - loss: -118698072.0000 - accuracy: 0.5000 - val_loss: -118663984.0000 - val_accuracy: 0.5000\n",
      "Epoch 25/30\n",
      "5/5 [==============================] - 1s 142ms/step - loss: -125312832.0000 - accuracy: 0.5000 - val_loss: -125864464.0000 - val_accuracy: 0.5000\n",
      "Epoch 26/30\n",
      "5/5 [==============================] - 1s 144ms/step - loss: -132976832.0000 - accuracy: 0.5000 - val_loss: -133303784.0000 - val_accuracy: 0.5000\n",
      "Epoch 27/30\n",
      "5/5 [==============================] - 1s 140ms/step - loss: -140350640.0000 - accuracy: 0.5000 - val_loss: -141227168.0000 - val_accuracy: 0.5000\n",
      "Epoch 28/30\n",
      "5/5 [==============================] - 1s 144ms/step - loss: -149002304.0000 - accuracy: 0.5000 - val_loss: -149264384.0000 - val_accuracy: 0.5000\n",
      "Epoch 29/30\n",
      "5/5 [==============================] - 1s 142ms/step - loss: -158002976.0000 - accuracy: 0.5000 - val_loss: -157420992.0000 - val_accuracy: 0.5000\n",
      "Epoch 30/30\n",
      "5/5 [==============================] - 1s 145ms/step - loss: -166033632.0000 - accuracy: 0.5000 - val_loss: -166295776.0000 - val_accuracy: 0.5000\n"
     ]
    }
   ],
   "source": [
    "mh =model.fit(training_set, validation_data = validation_set, epochs =30)"
   ]
  },
  {
   "cell_type": "code",
   "execution_count": 36,
   "metadata": {},
   "outputs": [
    {
     "data": {
      "image/png": "[encoded data removed]",
      "text/plain": [
       "<Figure size 432x288 with 1 Axes>"
      ]
     },
     "metadata": {
      "needs_background": "light"
     },
     "output_type": "display_data"
    }
   ],
   "source": [
    "from matplotlib import pyplot as plt \n",
    "\n",
    "plt.plot(mh.history['accuracy'])\n",
    "plt.plot(mh.history['val_accuracy'])\n",
    "plt.title('Accuracy')\n",
    "plt.ylabel('accuracy')\n",
    "plt.xlabel('epochs')\n",
    "plt.legend(['train', 'test'], loc = 'upper right')\n",
    "plt.show()"
   ]
  },
  {
   "cell_type": "code",
   "execution_count": 37,
   "metadata": {},
   "outputs": [
    {
     "name": "stdout",
     "output_type": "stream",
     "text": [
      "3/3 [==============================] - 0s 14ms/step - loss: -166295760.0000 - accuracy: 0.5000\n"
     ]
    }
   ],
   "source": [
    "test_loss, test_accuracy = model.evaluate(validation_set)"
   ]
  },
  {
   "cell_type": "code",
   "execution_count": 38,
   "metadata": {
    "tags": []
   },
   "outputs": [
    {
     "data": {
      "text/plain": [
       "-166295760.0"
      ]
     },
     "execution_count": 38,
     "metadata": {},
     "output_type": "execute_result"
    }
   ],
   "source": [
    "test_loss"
   ]
  }
 ],
 "metadata": {
  "kernelspec": {
   "display_name": "Python 3 [3.10]",
   "language": "python",
   "name": "python3"
  },
  "language_info": {
   "codemirror_mode": {
    "name": "ipython",
    "version": 3
   },
   "file_extension": ".py",
   "mimetype": "text/x-python",
   "name": "python",
   "nbconvert_exporter": "python",
   "pygments_lexer": "ipython3",
   "version": "3.10.2"
  }
 },
 "nbformat": 4,
 "nbformat_minor": 4
}
